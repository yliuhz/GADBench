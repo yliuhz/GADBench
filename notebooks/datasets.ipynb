{
 "cells": [
  {
   "cell_type": "markdown",
   "id": "d3818c5f",
   "metadata": {},
   "source": [
    "# Compute the statistics of datasets"
   ]
  },
  {
   "cell_type": "code",
   "execution_count": 1,
   "id": "4d6abb37",
   "metadata": {},
   "outputs": [],
   "source": [
    "import random\n",
    "from dgl.data.utils import load_graphs\n",
    "import os\n",
    "import json\n",
    "import numpy as np\n",
    "import dgl\n",
    "import networkx as nx"
   ]
  },
  {
   "cell_type": "code",
   "execution_count": 2,
   "id": "e4deb431",
   "metadata": {},
   "outputs": [],
   "source": [
    "class Dataset:\n",
    "    def __init__(self, name='tfinance', prefix='datasets/'):\n",
    "        graph = load_graphs(prefix + name)[0][0]\n",
    "        self.name = name\n",
    "        self.graph = graph\n",
    "\n",
    "    def split(self, semi_supervised=True, trial_id=0):\n",
    "        if semi_supervised:\n",
    "            trial_id += 10\n",
    "        self.graph.ndata['train_mask'] = self.graph.ndata['train_masks'][:,trial_id]\n",
    "        self.graph.ndata['val_mask'] = self.graph.ndata['val_masks'][:,trial_id]\n",
    "        self.graph.ndata['test_mask'] = self.graph.ndata['test_masks'][:,trial_id]\n",
    "        print(self.graph.ndata['train_mask'].sum(), self.graph.ndata['val_mask'].sum(), self.graph.ndata['test_mask'].sum())"
   ]
  },
  {
   "cell_type": "code",
   "execution_count": 7,
   "id": "5f9347ea",
   "metadata": {},
   "outputs": [],
   "source": [
    "def basic_info(graph):\n",
    "    \"\"\"\n",
    "        graph: dgl.DGLGraph\n",
    "    \"\"\"\n",
    "    n_nodes = graph.num_nodes()\n",
    "    n_edges = graph.num_edges()\n",
    "    n_features = graph.ndata[\"feature\"].shape[1]\n",
    "\n",
    "    avg_degree = graph.in_degrees().float().mean().item()\n",
    "\n",
    "    return n_nodes, n_edges, n_features, avg_degree\n",
    "def adv_info(graph):\n",
    "    \"\"\"\n",
    "        graph: dgl.DGLGraph\n",
    "    \"\"\"\n",
    "\n",
    "    graph = graph.remove_self_loop()\n",
    "    graph = dgl.to_simple(graph)\n",
    "    graph = dgl.to_networkx(graph)\n",
    "    graph = nx.Graph(graph)\n",
    "\n",
    "    \n",
    "\n",
    "    # print(graph)\n",
    "    # print(graph[0])\n",
    "\n",
    "    largest_cc = max(nx.connected_components(graph), key=len)\n",
    "    graph = graph.subgraph(largest_cc).copy()\n",
    "    print(graph)\n",
    "\n",
    "    \n",
    "    n_nodes = graph.number_of_nodes()\n",
    "    n_edges = graph.number_of_edges()    \n",
    "    diameter = nx.diameter(graph)\n",
    "    n_triangles = np.mean(list(nx.triangles(graph).values()))\n",
    "    global_clustering_coefficient = nx.transitivity(graph)\n",
    "    average_local_clustering_coefficient = nx.average_clustering(graph)\n",
    "\n",
    "\n",
    "    return n_nodes, n_edges, diameter, n_triangles, global_clustering_coefficient, average_local_clustering_coefficient"
   ]
  },
  {
   "cell_type": "code",
   "execution_count": 3,
   "id": "5ff0af18",
   "metadata": {},
   "outputs": [],
   "source": [
    "dataroot = \"../datasets/\""
   ]
  },
  {
   "cell_type": "code",
   "execution_count": 4,
   "id": "b652a8de",
   "metadata": {},
   "outputs": [],
   "source": [
    "datasets = ['reddit', 'weibo', 'amazon', 'yelp', 'tfinance',\n",
    "            'elliptic', 'tolokers', 'questions', 'dgraphfin', 'tsocial']"
   ]
  },
  {
   "cell_type": "code",
   "execution_count": null,
   "id": "d9679577",
   "metadata": {},
   "outputs": [
    {
     "name": "stdout",
     "output_type": "stream",
     "text": [
      "reddit\n",
      "(10984, 168016, 64, 15.296431541442871)\n",
      "Graph with 10980 nodes and 78514 edges\n",
      "(10980, 78514, 8, 0.0, 0, 0.0)\n",
      "weibo\n",
      "(8405, 416368, 400, 49.53813171386719)\n",
      "Graph with 8403 nodes and 377270 edges\n",
      "(8403, 377270, 6, 1708.2088539807212, 0.10970416669554976, 0.4333108922611914)\n",
      "amazon\n",
      "(11944, 8847096, 25, 740.7146606445312)\n",
      "Graph with 11944 nodes and 4417576 edges\n",
      "(11944, 4417576, 4, 274298.2932016075, 0.4084815109209683, 0.5091394903623276)\n",
      "yelp\n",
      "(45954, 7739912, 32, 168.42738342285156)\n",
      "Graph with 45900 nodes and 3846910 edges\n",
      "(45900, 3846910, 12, 15595.906078431373, 0.8439590175168633, 0.7742964904622189)\n",
      "tfinance\n",
      "(39357, 42484443, 10, 1079.4635009765625)\n",
      "Graph with 39351 nodes and 21222540 edges\n"
     ]
    }
   ],
   "source": [
    "bis = []\n",
    "ais = []\n",
    "\n",
    "for dataset in datasets:\n",
    "    print(f\"{dataset}\")\n",
    "    \n",
    "    data = Dataset(dataset, dataroot)\n",
    "    graph = data.graph\n",
    "    labels = graph.ndata['label']\n",
    "\n",
    "    # print(graph.edata)\n",
    "    # print(graph.out_edges(0))\n",
    "\n",
    "    bi = basic_info(graph)\n",
    "    print(bi)\n",
    "    bis.append(bi)\n",
    "\n",
    "    ai = adv_info(graph)\n",
    "    print(ai)\n",
    "    ais.append(ai)\n"
   ]
  },
  {
   "cell_type": "code",
   "execution_count": null,
   "id": "1dc56de0",
   "metadata": {},
   "outputs": [],
   "source": []
  },
  {
   "cell_type": "markdown",
   "id": "9dd9017c",
   "metadata": {},
   "source": [
    "## Tranform the datasets into Edgelists"
   ]
  },
  {
   "cell_type": "code",
   "execution_count": 5,
   "id": "7a743fee",
   "metadata": {},
   "outputs": [
    {
     "name": "stdout",
     "output_type": "stream",
     "text": [
      "reddit\n",
      "weibo\n",
      "amazon\n",
      "yelp\n",
      "tfinance\n",
      "elliptic\n",
      "tolokers\n",
      "questions\n",
      "dgraphfin\n",
      "tsocial\n"
     ]
    }
   ],
   "source": [
    "\n",
    "for dataset in datasets:\n",
    "    print(f\"{dataset}\")\n",
    "    \n",
    "    data = Dataset(dataset, dataroot)\n",
    "    graph = data.graph\n",
    "\n",
    "    # graph = graph.remove_self_loop()\n",
    "    # graph = dgl.to_simple(graph)\n",
    "    graph = dgl.to_networkx(graph)\n",
    "    graph = nx.Graph(graph)\n",
    "\n",
    "    nx.write_weighted_edgelist(graph, f\"{dataset}.weighted.edgelist\")\n",
    "    \n"
   ]
  },
  {
   "cell_type": "code",
   "execution_count": 5,
   "id": "7fde913a",
   "metadata": {},
   "outputs": [
    {
     "name": "stdout",
     "output_type": "stream",
     "text": [
      "reddit\n",
      "10984, 89500\n",
      "weibo\n",
      "8405, 385676\n",
      "amazon\n",
      "11944, 4429520\n",
      "yelp\n",
      "45954, 3892933\n",
      "tfinance\n",
      "39357, 21261900\n",
      "elliptic\n",
      "203769, 438124\n",
      "tolokers\n",
      "11758, 530758\n",
      "questions\n",
      "48921, 202461\n",
      "dgraphfin\n",
      "3700550, 7697810\n",
      "tsocial\n",
      "5781065, 78886573\n"
     ]
    }
   ],
   "source": [
    "\n",
    "for dataset in datasets:\n",
    "    print(f\"{dataset}\")\n",
    "\n",
    "    graph = nx.read_weighted_edgelist(f\"{dataset}.weighted.edgelist\")\n",
    "    print(f\"{graph.number_of_nodes()}, {graph.number_of_edges()}\")\n",
    "\n",
    "    with open(f\"{dataset}.weighted.edgelist\", \"r\") as f:\n",
    "        lines = f.readlines()\n",
    "    extralines = [f\"# Undirected graph: {dataset}.weighted.edgelist \\n\"] + \\\n",
    "        [\"# Save as space-separated list of edges\\n\"] + \\\n",
    "        [f\"# Nodes: {graph.number_of_nodes()} Edges: {graph.number_of_edges()}\\n\"] + \\\n",
    "        [\"# FromNodeId\tToNodeId\\n\"]\n",
    "    lines = extralines + lines\n",
    "\n",
    "    with open(f\"{dataset}.snap\", \"w\") as f:\n",
    "        for line in lines:\n",
    "            f.write(line)\n",
    "    \n"
   ]
  },
  {
   "cell_type": "code",
   "execution_count": null,
   "id": "e02e9b74-1077-4a0c-adfb-71a61c8e2428",
   "metadata": {},
   "outputs": [],
   "source": []
  }
 ],
 "metadata": {
  "kernelspec": {
   "display_name": "Python 3 (ipykernel)",
   "language": "python",
   "name": "python3"
  },
  "language_info": {
   "codemirror_mode": {
    "name": "ipython",
    "version": 3
   },
   "file_extension": ".py",
   "mimetype": "text/x-python",
   "name": "python",
   "nbconvert_exporter": "python",
   "pygments_lexer": "ipython3",
   "version": "3.10.13"
  }
 },
 "nbformat": 4,
 "nbformat_minor": 5
}
